{
 "cells": [
  {
   "cell_type": "code",
   "execution_count": 15,
   "id": "6159c5ca-42c0-4e04-b32e-dfdc62a63dd5",
   "metadata": {},
   "outputs": [
    {
     "name": "stdout",
     "output_type": "stream",
     "text": [
      "1/1 [==============================] - 0s 42ms/step\n"
     ]
    },
    {
     "data": {
      "text/plain": [
       "array([[121.1476 ],\n",
       "       [141.17377],\n",
       "       [161.19994]], dtype=float32)"
      ]
     },
     "execution_count": 15,
     "metadata": {},
     "output_type": "execute_result"
    }
   ],
   "source": [
    "import tensorflow as tf\n",
    "from tensorflow.keras.models import Sequential\n",
    "from tensorflow.keras.layers import Dense\n",
    "\n",
    "model = Sequential()\n",
    "model.add(Dense(units=1, input_dim=1, activation='linear'))\n",
    "model.compile(optimizer='sgd', loss='mean_squared_error')\n",
    "\n",
    "\n",
    "import numpy as np\n",
    "X = np.array([1,2,3,4,5],dtype=float)\n",
    "y = 2*X+1\n",
    "\n",
    "model.fit(X,y,epochs=1000,verbose=0)\n",
    "\n",
    "prediction = model.predict([60,70,80])\n",
    "prediction          "
   ]
  },
  {
   "cell_type": "code",
   "execution_count": 19,
   "id": "3dcb50f9-2a18-4d8c-bf09-181a89e80449",
   "metadata": {},
   "outputs": [
    {
     "data": {
      "text/plain": [
       "2"
      ]
     },
     "execution_count": 19,
     "metadata": {},
     "output_type": "execute_result"
    }
   ],
   "source": [
    "prediction.ndim"
   ]
  },
  {
   "cell_type": "code",
   "execution_count": null,
   "id": "ced87584-4cde-4bd2-9491-d70eaf0b0782",
   "metadata": {},
   "outputs": [],
   "source": []
  }
 ],
 "metadata": {
  "kernelspec": {
   "display_name": "Python 3 (ipykernel)",
   "language": "python",
   "name": "python3"
  },
  "language_info": {
   "codemirror_mode": {
    "name": "ipython",
    "version": 3
   },
   "file_extension": ".py",
   "mimetype": "text/x-python",
   "name": "python",
   "nbconvert_exporter": "python",
   "pygments_lexer": "ipython3",
   "version": "3.10.12"
  }
 },
 "nbformat": 4,
 "nbformat_minor": 5
}
